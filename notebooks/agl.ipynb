{
 "cells": [
  {
   "cell_type": "code",
   "execution_count": 14,
   "metadata": {},
   "outputs": [],
   "source": [
    "import datetime\n",
    "from tiingo import TiingoClient\n",
    "\n",
    "client = TiingoClient()\n"
   ]
  },
  {
   "cell_type": "code",
   "execution_count": 10,
   "metadata": {},
   "outputs": [
    {
     "data": {
      "text/html": [
       "<div>\n",
       "<style scoped>\n",
       "    .dataframe tbody tr th:only-of-type {\n",
       "        vertical-align: middle;\n",
       "    }\n",
       "\n",
       "    .dataframe tbody tr th {\n",
       "        vertical-align: top;\n",
       "    }\n",
       "\n",
       "    .dataframe thead th {\n",
       "        text-align: right;\n",
       "    }\n",
       "</style>\n",
       "<table border=\"1\" class=\"dataframe\">\n",
       "  <thead>\n",
       "    <tr style=\"text-align: right;\">\n",
       "      <th></th>\n",
       "      <th>close</th>\n",
       "      <th>high</th>\n",
       "      <th>low</th>\n",
       "      <th>open</th>\n",
       "      <th>volume</th>\n",
       "    </tr>\n",
       "    <tr>\n",
       "      <th>date</th>\n",
       "      <th></th>\n",
       "      <th></th>\n",
       "      <th></th>\n",
       "      <th></th>\n",
       "      <th></th>\n",
       "    </tr>\n",
       "  </thead>\n",
       "  <tbody>\n",
       "    <tr>\n",
       "      <th>2022-04-01 09:32:00-04:00</th>\n",
       "      <td>25.490</td>\n",
       "      <td>25.490</td>\n",
       "      <td>25.490</td>\n",
       "      <td>25.490</td>\n",
       "      <td>100.0</td>\n",
       "    </tr>\n",
       "    <tr>\n",
       "      <th>2022-04-01 09:33:00-04:00</th>\n",
       "      <td>25.490</td>\n",
       "      <td>25.490</td>\n",
       "      <td>25.490</td>\n",
       "      <td>25.490</td>\n",
       "      <td>0.0</td>\n",
       "    </tr>\n",
       "    <tr>\n",
       "      <th>2022-04-01 09:34:00-04:00</th>\n",
       "      <td>25.480</td>\n",
       "      <td>25.615</td>\n",
       "      <td>25.445</td>\n",
       "      <td>25.500</td>\n",
       "      <td>588.0</td>\n",
       "    </tr>\n",
       "    <tr>\n",
       "      <th>2022-04-01 09:35:00-04:00</th>\n",
       "      <td>25.525</td>\n",
       "      <td>25.525</td>\n",
       "      <td>25.480</td>\n",
       "      <td>25.480</td>\n",
       "      <td>122.0</td>\n",
       "    </tr>\n",
       "    <tr>\n",
       "      <th>2022-04-01 09:36:00-04:00</th>\n",
       "      <td>25.525</td>\n",
       "      <td>25.525</td>\n",
       "      <td>25.525</td>\n",
       "      <td>25.525</td>\n",
       "      <td>0.0</td>\n",
       "    </tr>\n",
       "    <tr>\n",
       "      <th>...</th>\n",
       "      <td>...</td>\n",
       "      <td>...</td>\n",
       "      <td>...</td>\n",
       "      <td>...</td>\n",
       "      <td>...</td>\n",
       "    </tr>\n",
       "    <tr>\n",
       "      <th>2022-04-29 15:55:00-04:00</th>\n",
       "      <td>17.835</td>\n",
       "      <td>17.845</td>\n",
       "      <td>17.825</td>\n",
       "      <td>17.835</td>\n",
       "      <td>485.0</td>\n",
       "    </tr>\n",
       "    <tr>\n",
       "      <th>2022-04-29 15:56:00-04:00</th>\n",
       "      <td>17.790</td>\n",
       "      <td>17.825</td>\n",
       "      <td>17.770</td>\n",
       "      <td>17.825</td>\n",
       "      <td>2968.0</td>\n",
       "    </tr>\n",
       "    <tr>\n",
       "      <th>2022-04-29 15:57:00-04:00</th>\n",
       "      <td>17.765</td>\n",
       "      <td>17.790</td>\n",
       "      <td>17.750</td>\n",
       "      <td>17.790</td>\n",
       "      <td>224.0</td>\n",
       "    </tr>\n",
       "    <tr>\n",
       "      <th>2022-04-29 15:58:00-04:00</th>\n",
       "      <td>17.775</td>\n",
       "      <td>17.780</td>\n",
       "      <td>17.760</td>\n",
       "      <td>17.765</td>\n",
       "      <td>206.0</td>\n",
       "    </tr>\n",
       "    <tr>\n",
       "      <th>2022-04-29 15:59:00-04:00</th>\n",
       "      <td>17.760</td>\n",
       "      <td>17.770</td>\n",
       "      <td>17.760</td>\n",
       "      <td>17.765</td>\n",
       "      <td>325.0</td>\n",
       "    </tr>\n",
       "  </tbody>\n",
       "</table>\n",
       "<p>8188 rows × 5 columns</p>\n",
       "</div>"
      ],
      "text/plain": [
       "                            close    high     low    open  volume\n",
       "date                                                             \n",
       "2022-04-01 09:32:00-04:00  25.490  25.490  25.490  25.490   100.0\n",
       "2022-04-01 09:33:00-04:00  25.490  25.490  25.490  25.490     0.0\n",
       "2022-04-01 09:34:00-04:00  25.480  25.615  25.445  25.500   588.0\n",
       "2022-04-01 09:35:00-04:00  25.525  25.525  25.480  25.480   122.0\n",
       "2022-04-01 09:36:00-04:00  25.525  25.525  25.525  25.525     0.0\n",
       "...                           ...     ...     ...     ...     ...\n",
       "2022-04-29 15:55:00-04:00  17.835  17.845  17.825  17.835   485.0\n",
       "2022-04-29 15:56:00-04:00  17.790  17.825  17.770  17.825  2968.0\n",
       "2022-04-29 15:57:00-04:00  17.765  17.790  17.750  17.790   224.0\n",
       "2022-04-29 15:58:00-04:00  17.775  17.780  17.760  17.765   206.0\n",
       "2022-04-29 15:59:00-04:00  17.760  17.770  17.760  17.765   325.0\n",
       "\n",
       "[8188 rows x 5 columns]"
      ]
     },
     "execution_count": 10,
     "metadata": {},
     "output_type": "execute_result"
    }
   ],
   "source": [
    "historical_prices23_02 = client.get_dataframe(\"AGL\",startDate='2023-02-01',endDate='2023-02-13',frequency='1Min')⌈"
   ]
  },
  {
   "cell_type": "code",
   "execution_count": 25,
   "metadata": {},
   "outputs": [
    {
     "ename": "TypeError",
     "evalue": "unsupported operand type(s) for +: 'datetime.datetime' and 'getset_descriptor'",
     "output_type": "error",
     "traceback": [
      "\u001b[0;31m---------------------------------------------------------------------------\u001b[0m",
      "\u001b[0;31mTypeError\u001b[0m                                 Traceback (most recent call last)",
      "Cell \u001b[0;32mIn[25], line 1\u001b[0m\n\u001b[0;32m----> 1\u001b[0m datetime\u001b[39m.\u001b[39;49mdatetime(\u001b[39m2023\u001b[39;49m,\u001b[39m1\u001b[39;49m,\u001b[39m1\u001b[39;49m) \u001b[39m+\u001b[39;49m datetime\u001b[39m.\u001b[39;49mdate\u001b[39m.\u001b[39;49mmonth\n",
      "\u001b[0;31mTypeError\u001b[0m: unsupported operand type(s) for +: 'datetime.datetime' and 'getset_descriptor'"
     ]
    }
   ],
   "source": [
    "historical_prices23_01 = client.get_dataframe(\"AGL\",startDate='2023-01-01',endDate='2023-01-31',frequency='1Min')"
   ]
  },
  {
   "cell_type": "code",
   "execution_count": null,
   "metadata": {},
   "outputs": [],
   "source": [
    "historical_prices22_12 = client.get_dataframe(\"AGL\",startDate='2022-12-01',endDate='2022-12-31',frequency='1Min')"
   ]
  },
  {
   "cell_type": "code",
   "execution_count": 26,
   "metadata": {},
   "outputs": [
    {
     "name": "stderr",
     "output_type": "stream",
     "text": [
      "ERROR:root:b'{\"detail\":\"Error: You have run over your hourly request allocation. Please upgrade at https://api.tiingo.com/pricing to have your limits increased.\"}'\n"
     ]
    },
    {
     "ename": "RestClientError",
     "evalue": "429 Client Error: Too Many Requests for url: https://api.tiingo.com/iex/AGL/prices?format=json&resampleFreq=1Min&startDate=2022-11-01&endDate=2022-11-30",
     "output_type": "error",
     "traceback": [
      "\u001b[0;31m---------------------------------------------------------------------------\u001b[0m",
      "\u001b[0;31mHTTPError\u001b[0m                                 Traceback (most recent call last)",
      "File \u001b[0;32m~/.python/current/lib/python3.10/site-packages/tiingo/restclient.py:53\u001b[0m, in \u001b[0;36mRestClient._request\u001b[0;34m(self, method, url, **kwargs)\u001b[0m\n\u001b[1;32m     52\u001b[0m \u001b[39mtry\u001b[39;00m:\n\u001b[0;32m---> 53\u001b[0m     resp\u001b[39m.\u001b[39;49mraise_for_status()\n\u001b[1;32m     54\u001b[0m \u001b[39mexcept\u001b[39;00m HTTPError \u001b[39mas\u001b[39;00m e:\n",
      "File \u001b[0;32m~/.local/lib/python3.10/site-packages/requests/models.py:1021\u001b[0m, in \u001b[0;36mResponse.raise_for_status\u001b[0;34m(self)\u001b[0m\n\u001b[1;32m   1020\u001b[0m \u001b[39mif\u001b[39;00m http_error_msg:\n\u001b[0;32m-> 1021\u001b[0m     \u001b[39mraise\u001b[39;00m HTTPError(http_error_msg, response\u001b[39m=\u001b[39m\u001b[39mself\u001b[39m)\n",
      "\u001b[0;31mHTTPError\u001b[0m: 429 Client Error: Too Many Requests for url: https://api.tiingo.com/iex/AGL/prices?format=json&resampleFreq=1Min&startDate=2022-11-01&endDate=2022-11-30",
      "\nDuring handling of the above exception, another exception occurred:\n",
      "\u001b[0;31mRestClientError\u001b[0m                           Traceback (most recent call last)",
      "Cell \u001b[0;32mIn[26], line 1\u001b[0m\n\u001b[0;32m----> 1\u001b[0m historical_prices22_11 \u001b[39m=\u001b[39m client\u001b[39m.\u001b[39;49mget_dataframe(\u001b[39m\"\u001b[39;49m\u001b[39mAGL\u001b[39;49m\u001b[39m\"\u001b[39;49m,startDate\u001b[39m=\u001b[39;49m\u001b[39m'\u001b[39;49m\u001b[39m2022-11-01\u001b[39;49m\u001b[39m'\u001b[39;49m,endDate\u001b[39m=\u001b[39;49m\u001b[39m'\u001b[39;49m\u001b[39m2022-11-30\u001b[39;49m\u001b[39m'\u001b[39;49m,frequency\u001b[39m=\u001b[39;49m\u001b[39m'\u001b[39;49m\u001b[39m1Min\u001b[39;49m\u001b[39m'\u001b[39;49m)\n\u001b[1;32m      2\u001b[0m historical_prices22_10 \u001b[39m=\u001b[39m client\u001b[39m.\u001b[39mget_dataframe(\u001b[39m\"\u001b[39m\u001b[39mAGL\u001b[39m\u001b[39m\"\u001b[39m,startDate\u001b[39m=\u001b[39m\u001b[39m'\u001b[39m\u001b[39m2022-10-01\u001b[39m\u001b[39m'\u001b[39m,endDate\u001b[39m=\u001b[39m\u001b[39m'\u001b[39m\u001b[39m2022-10-31\u001b[39m\u001b[39m'\u001b[39m,frequency\u001b[39m=\u001b[39m\u001b[39m'\u001b[39m\u001b[39m1Min\u001b[39m\u001b[39m'\u001b[39m)\n\u001b[1;32m      3\u001b[0m historical_prices22_09 \u001b[39m=\u001b[39m client\u001b[39m.\u001b[39mget_dataframe(\u001b[39m\"\u001b[39m\u001b[39mAGL\u001b[39m\u001b[39m\"\u001b[39m,startDate\u001b[39m=\u001b[39m\u001b[39m'\u001b[39m\u001b[39m2022-09-01\u001b[39m\u001b[39m'\u001b[39m,endDate\u001b[39m=\u001b[39m\u001b[39m'\u001b[39m\u001b[39m2022-09-30\u001b[39m\u001b[39m'\u001b[39m,frequency\u001b[39m=\u001b[39m\u001b[39m'\u001b[39m\u001b[39m1Min\u001b[39m\u001b[39m'\u001b[39m)\n",
      "File \u001b[0;32m~/.python/current/lib/python3.10/site-packages/tiingo/api.py:294\u001b[0m, in \u001b[0;36mTiingoClient.get_dataframe\u001b[0;34m(self, tickers, startDate, endDate, metric_name, frequency, fmt)\u001b[0m\n\u001b[1;32m    292\u001b[0m \u001b[39mif\u001b[39;00m pandas_is_installed:\n\u001b[1;32m    293\u001b[0m     \u001b[39mif\u001b[39;00m \u001b[39mtype\u001b[39m(tickers) \u001b[39mis\u001b[39;00m \u001b[39mstr\u001b[39m:\n\u001b[0;32m--> 294\u001b[0m         prices \u001b[39m=\u001b[39m \u001b[39mself\u001b[39;49m\u001b[39m.\u001b[39;49m_request_pandas(\n\u001b[1;32m    295\u001b[0m             ticker\u001b[39m=\u001b[39;49mtickers, params\u001b[39m=\u001b[39;49mparams, metric_name\u001b[39m=\u001b[39;49mmetric_name)\n\u001b[1;32m    296\u001b[0m     \u001b[39melse\u001b[39;00m:\n\u001b[1;32m    297\u001b[0m         prices \u001b[39m=\u001b[39m pd\u001b[39m.\u001b[39mDataFrame()\n",
      "File \u001b[0;32m~/.python/current/lib/python3.10/site-packages/tiingo/api.py:183\u001b[0m, in \u001b[0;36mTiingoClient._request_pandas\u001b[0;34m(self, ticker, metric_name, params)\u001b[0m\n\u001b[1;32m    170\u001b[0m \u001b[39m\u001b[39m\u001b[39m\"\"\"\u001b[39;00m\n\u001b[1;32m    171\u001b[0m \u001b[39mReturn data for ticker as a pandas.DataFrame if metric_name is not\u001b[39;00m\n\u001b[1;32m    172\u001b[0m \u001b[39mspecified or as a pandas.Series if metric_name is specified.\u001b[39;00m\n\u001b[0;32m   (...)\u001b[0m\n\u001b[1;32m    180\u001b[0m \u001b[39m    this parameter is required.\u001b[39;00m\n\u001b[1;32m    181\u001b[0m \u001b[39m\"\"\"\u001b[39;00m\n\u001b[1;32m    182\u001b[0m url \u001b[39m=\u001b[39m \u001b[39mself\u001b[39m\u001b[39m.\u001b[39m_get_url(ticker, params[\u001b[39m'\u001b[39m\u001b[39mresampleFreq\u001b[39m\u001b[39m'\u001b[39m])\n\u001b[0;32m--> 183\u001b[0m response \u001b[39m=\u001b[39m \u001b[39mself\u001b[39;49m\u001b[39m.\u001b[39;49m_request(\u001b[39m'\u001b[39;49m\u001b[39mGET\u001b[39;49m\u001b[39m'\u001b[39;49m, url, params\u001b[39m=\u001b[39;49mparams)\n\u001b[1;32m    184\u001b[0m \u001b[39mif\u001b[39;00m params[\u001b[39m'\u001b[39m\u001b[39mformat\u001b[39m\u001b[39m'\u001b[39m] \u001b[39m==\u001b[39m \u001b[39m'\u001b[39m\u001b[39mcsv\u001b[39m\u001b[39m'\u001b[39m:\n\u001b[1;32m    185\u001b[0m     \u001b[39mif\u001b[39;00m sys\u001b[39m.\u001b[39mversion_info \u001b[39m<\u001b[39m (\u001b[39m3\u001b[39m, \u001b[39m0\u001b[39m):  \u001b[39m# python 2\u001b[39;00m\n",
      "File \u001b[0;32m~/.python/current/lib/python3.10/site-packages/tiingo/restclient.py:56\u001b[0m, in \u001b[0;36mRestClient._request\u001b[0;34m(self, method, url, **kwargs)\u001b[0m\n\u001b[1;32m     54\u001b[0m \u001b[39mexcept\u001b[39;00m HTTPError \u001b[39mas\u001b[39;00m e:\n\u001b[1;32m     55\u001b[0m     logging\u001b[39m.\u001b[39merror(resp\u001b[39m.\u001b[39mcontent)\n\u001b[0;32m---> 56\u001b[0m     \u001b[39mraise\u001b[39;00m RestClientError(e)\n\u001b[1;32m     58\u001b[0m \u001b[39mreturn\u001b[39;00m resp\n",
      "\u001b[0;31mRestClientError\u001b[0m: 429 Client Error: Too Many Requests for url: https://api.tiingo.com/iex/AGL/prices?format=json&resampleFreq=1Min&startDate=2022-11-01&endDate=2022-11-30"
     ]
    }
   ],
   "source": [
    "historical_prices22_11 = client.get_dataframe(\"AGL\",startDate='2022-11-01',endDate='2022-11-30',frequency='1Min')\n"
   ]
  },
  {
   "cell_type": "code",
   "execution_count": null,
   "metadata": {},
   "outputs": [],
   "source": [
    "historical_prices22_10 = client.get_dataframe(\"AGL\",startDate='2022-10-01',endDate='2022-10-31',frequency='1Min')"
   ]
  },
  {
   "cell_type": "code",
   "execution_count": null,
   "metadata": {},
   "outputs": [],
   "source": [
    "historical_prices22_09 = client.get_dataframe(\"AGL\",startDate='2022-09-01',endDate='2022-09-30',frequency='1Min')"
   ]
  },
  {
   "cell_type": "code",
   "execution_count": null,
   "metadata": {},
   "outputs": [],
   "source": [
    "historical_prices22_08 = client.get_dataframe(\"AGL\",startDate='2022-08-01',endDate='2022-08-31',frequency='1Min')"
   ]
  },
  {
   "cell_type": "code",
   "execution_count": null,
   "metadata": {},
   "outputs": [],
   "source": [
    "\n",
    "historical_prices22_07 = client.get_dataframe(\"AGL\",startDate='2022-07-01',endDate='2022-07-31',frequency='1Min')"
   ]
  },
  {
   "cell_type": "code",
   "execution_count": null,
   "metadata": {},
   "outputs": [],
   "source": [
    "historical_prices22_06 = client.get_dataframe(\"AGL\",startDate='2022-06-01',endDate='2022-06-30',frequency='1Min')"
   ]
  },
  {
   "cell_type": "code",
   "execution_count": null,
   "metadata": {},
   "outputs": [],
   "source": [
    "historical_prices22_05 = client.get_dataframe(\"AGL\",startDate='2022-05-01',endDate='2022-05-31',frequency='1Min')"
   ]
  },
  {
   "cell_type": "code",
   "execution_count": null,
   "metadata": {},
   "outputs": [],
   "source": [
    "historical_prices22_04 = client.get_dataframe(\"AGL\",startDate='2022-04-01',endDate='2022-04-30',frequency='1Min')"
   ]
  },
  {
   "cell_type": "code",
   "execution_count": null,
   "metadata": {},
   "outputs": [],
   "source": [
    "\n",
    "historical_prices22_03 = client.get_dataframe(\"AGL\",startDate='2022-03-01',endDate='2022-03-31',frequency='1Min')"
   ]
  },
  {
   "cell_type": "code",
   "execution_count": null,
   "metadata": {},
   "outputs": [],
   "source": [
    "\n",
    "historical_prices22_02 = client.get_dataframe(\"AGL\",startDate='2022-02-01',endDate='2022-02-28',frequency='1Min')"
   ]
  },
  {
   "cell_type": "code",
   "execution_count": null,
   "metadata": {},
   "outputs": [],
   "source": [
    "historical_prices22_01 = client.get_dataframe(\"AGL\",startDate='2022-01-01',endDate='2022-01-31',frequency='1Min')"
   ]
  }
 ],
 "metadata": {
  "kernelspec": {
   "display_name": "Python 3",
   "language": "python",
   "name": "python3"
  },
  "language_info": {
   "codemirror_mode": {
    "name": "ipython",
    "version": 3
   },
   "file_extension": ".py",
   "mimetype": "text/x-python",
   "name": "python",
   "nbconvert_exporter": "python",
   "pygments_lexer": "ipython3",
   "version": "3.10.4"
  },
  "orig_nbformat": 4,
  "vscode": {
   "interpreter": {
    "hash": "3ad933181bd8a04b432d3370b9dc3b0662ad032c4dfaa4e4f1596c548f763858"
   }
  }
 },
 "nbformat": 4,
 "nbformat_minor": 2
}
